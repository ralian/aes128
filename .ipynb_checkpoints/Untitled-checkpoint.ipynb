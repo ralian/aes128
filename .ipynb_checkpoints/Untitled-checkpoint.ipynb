{
 "cells": [
  {
   "cell_type": "code",
   "execution_count": null,
   "metadata": {
    "collapsed": true
   },
   "outputs": [],
   "source": [
    "from Crypto.Cipher import AES\n",
    "import binascii\n",
    "import os\n",
    "key = binascii.unhexlify('1F61ECB5ED5D6BAF8D7A7068B28DCC8E')\n",
    "IV = os.urandom(16)\n",
    "binascii.hexlify(IV).upper()\n",
    "encryptor = AES.new(key, AES.MODE_CBC, IV=IV)\n",
    "text = binascii.unhexlify('020ABC00ABCDEFf8d500000123456789')\n",
    "ciphertext = encryptor.encrypt(text)\n",
    "print(binascii.hexlify(ciphertext).upper())"
   ]
  },
  {
   "cell_type": "code",
   "execution_count": null,
   "metadata": {
    "collapsed": true
   },
   "outputs": [],
   "source": []
  }
 ],
 "metadata": {
  "kernelspec": {
   "display_name": "Python 3",
   "language": "python",
   "name": "python3"
  }
 },
 "nbformat": 4,
 "nbformat_minor": 2
}
